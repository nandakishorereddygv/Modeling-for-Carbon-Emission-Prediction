{
 "cells": [
  {
   "cell_type": "markdown",
   "id": "d47a62ad",
   "metadata": {},
   "source": [
    "## IMPORTING THE LIBRARIES"
   ]
  },
  {
   "cell_type": "code",
   "execution_count": 49,
   "id": "44aaf7a6",
   "metadata": {},
   "outputs": [],
   "source": [
    "import pandas as pd\n",
    "from sklearn.model_selection import train_test_split\n",
    "from sklearn.preprocessing import StandardScaler\n",
    "from sklearn.neighbors import KNeighborsRegressor\n",
    "from sklearn.metrics import mean_squared_error\n",
    "import seaborn as sns\n",
    "import matplotlib.pyplot as plt"
   ]
  },
  {
   "cell_type": "markdown",
   "id": "5996153a",
   "metadata": {},
   "source": [
    "## DATA LOADING"
   ]
  },
  {
   "cell_type": "code",
   "execution_count": 50,
   "id": "0243e953",
   "metadata": {},
   "outputs": [],
   "source": [
    "df = pd.read_csv(\"C:/Users/nanda/OneDrive/Desktop/Mini Project/CO2 Emission.csv\")"
   ]
  },
  {
   "cell_type": "code",
   "execution_count": 51,
   "id": "2ea7c76b",
   "metadata": {},
   "outputs": [
    {
     "data": {
      "text/html": [
       "<div>\n",
       "<style scoped>\n",
       "    .dataframe tbody tr th:only-of-type {\n",
       "        vertical-align: middle;\n",
       "    }\n",
       "\n",
       "    .dataframe tbody tr th {\n",
       "        vertical-align: top;\n",
       "    }\n",
       "\n",
       "    .dataframe thead th {\n",
       "        text-align: right;\n",
       "    }\n",
       "</style>\n",
       "<table border=\"1\" class=\"dataframe\">\n",
       "  <thead>\n",
       "    <tr style=\"text-align: right;\">\n",
       "      <th></th>\n",
       "      <th>country</th>\n",
       "      <th>year</th>\n",
       "      <th>co2</th>\n",
       "      <th>coal_co2</th>\n",
       "      <th>cement_co2</th>\n",
       "      <th>gas_co2</th>\n",
       "      <th>oil_co2</th>\n",
       "      <th>methane</th>\n",
       "      <th>population</th>\n",
       "      <th>gdp</th>\n",
       "      <th>primary_energy_consumption</th>\n",
       "    </tr>\n",
       "  </thead>\n",
       "  <tbody>\n",
       "    <tr>\n",
       "      <th>0</th>\n",
       "      <td>Afghanistan</td>\n",
       "      <td>1991</td>\n",
       "      <td>2.427</td>\n",
       "      <td>0.249</td>\n",
       "      <td>0.046</td>\n",
       "      <td>0.388</td>\n",
       "      <td>1.718</td>\n",
       "      <td>9.07</td>\n",
       "      <td>13299016.0</td>\n",
       "      <td>1.204736e+10</td>\n",
       "      <td>13.651</td>\n",
       "    </tr>\n",
       "    <tr>\n",
       "      <th>1</th>\n",
       "      <td>Afghanistan</td>\n",
       "      <td>1992</td>\n",
       "      <td>1.379</td>\n",
       "      <td>0.022</td>\n",
       "      <td>0.046</td>\n",
       "      <td>0.363</td>\n",
       "      <td>0.927</td>\n",
       "      <td>9.00</td>\n",
       "      <td>14485543.0</td>\n",
       "      <td>1.267754e+10</td>\n",
       "      <td>8.961</td>\n",
       "    </tr>\n",
       "    <tr>\n",
       "      <th>2</th>\n",
       "      <td>Afghanistan</td>\n",
       "      <td>1993</td>\n",
       "      <td>1.333</td>\n",
       "      <td>0.018</td>\n",
       "      <td>0.047</td>\n",
       "      <td>0.352</td>\n",
       "      <td>0.894</td>\n",
       "      <td>8.90</td>\n",
       "      <td>15816601.0</td>\n",
       "      <td>9.834581e+09</td>\n",
       "      <td>8.935</td>\n",
       "    </tr>\n",
       "    <tr>\n",
       "      <th>3</th>\n",
       "      <td>Afghanistan</td>\n",
       "      <td>1994</td>\n",
       "      <td>1.282</td>\n",
       "      <td>0.015</td>\n",
       "      <td>0.047</td>\n",
       "      <td>0.338</td>\n",
       "      <td>0.860</td>\n",
       "      <td>8.97</td>\n",
       "      <td>17075728.0</td>\n",
       "      <td>7.919857e+09</td>\n",
       "      <td>8.617</td>\n",
       "    </tr>\n",
       "    <tr>\n",
       "      <th>4</th>\n",
       "      <td>Afghanistan</td>\n",
       "      <td>1995</td>\n",
       "      <td>1.230</td>\n",
       "      <td>0.015</td>\n",
       "      <td>0.047</td>\n",
       "      <td>0.322</td>\n",
       "      <td>0.824</td>\n",
       "      <td>9.15</td>\n",
       "      <td>18110662.0</td>\n",
       "      <td>1.230753e+10</td>\n",
       "      <td>7.246</td>\n",
       "    </tr>\n",
       "  </tbody>\n",
       "</table>\n",
       "</div>"
      ],
      "text/plain": [
       "       country  year    co2  coal_co2  cement_co2  gas_co2  oil_co2  methane  \\\n",
       "0  Afghanistan  1991  2.427     0.249       0.046    0.388    1.718     9.07   \n",
       "1  Afghanistan  1992  1.379     0.022       0.046    0.363    0.927     9.00   \n",
       "2  Afghanistan  1993  1.333     0.018       0.047    0.352    0.894     8.90   \n",
       "3  Afghanistan  1994  1.282     0.015       0.047    0.338    0.860     8.97   \n",
       "4  Afghanistan  1995  1.230     0.015       0.047    0.322    0.824     9.15   \n",
       "\n",
       "   population           gdp  primary_energy_consumption  \n",
       "0  13299016.0  1.204736e+10                      13.651  \n",
       "1  14485543.0  1.267754e+10                       8.961  \n",
       "2  15816601.0  9.834581e+09                       8.935  \n",
       "3  17075728.0  7.919857e+09                       8.617  \n",
       "4  18110662.0  1.230753e+10                       7.246  "
      ]
     },
     "execution_count": 51,
     "metadata": {},
     "output_type": "execute_result"
    }
   ],
   "source": [
    "df.head()"
   ]
  },
  {
   "cell_type": "code",
   "execution_count": 52,
   "id": "ff1db94a",
   "metadata": {},
   "outputs": [
    {
     "data": {
      "text/html": [
       "<div>\n",
       "<style scoped>\n",
       "    .dataframe tbody tr th:only-of-type {\n",
       "        vertical-align: middle;\n",
       "    }\n",
       "\n",
       "    .dataframe tbody tr th {\n",
       "        vertical-align: top;\n",
       "    }\n",
       "\n",
       "    .dataframe thead th {\n",
       "        text-align: right;\n",
       "    }\n",
       "</style>\n",
       "<table border=\"1\" class=\"dataframe\">\n",
       "  <thead>\n",
       "    <tr style=\"text-align: right;\">\n",
       "      <th></th>\n",
       "      <th>country</th>\n",
       "      <th>year</th>\n",
       "      <th>co2</th>\n",
       "      <th>coal_co2</th>\n",
       "      <th>cement_co2</th>\n",
       "      <th>gas_co2</th>\n",
       "      <th>oil_co2</th>\n",
       "      <th>methane</th>\n",
       "      <th>population</th>\n",
       "      <th>gdp</th>\n",
       "      <th>primary_energy_consumption</th>\n",
       "    </tr>\n",
       "  </thead>\n",
       "  <tbody>\n",
       "    <tr>\n",
       "      <th>6586</th>\n",
       "      <td>Zimbabwe</td>\n",
       "      <td>2016</td>\n",
       "      <td>10.738</td>\n",
       "      <td>6.959</td>\n",
       "      <td>0.639</td>\n",
       "      <td>3.139</td>\n",
       "      <td>3.139</td>\n",
       "      <td>11.92</td>\n",
       "      <td>14030338.0</td>\n",
       "      <td>2.096179e+10</td>\n",
       "      <td>4.750000e+01</td>\n",
       "    </tr>\n",
       "    <tr>\n",
       "      <th>6587</th>\n",
       "      <td>Zimbabwe</td>\n",
       "      <td>2017</td>\n",
       "      <td>9.582</td>\n",
       "      <td>5.665</td>\n",
       "      <td>0.678</td>\n",
       "      <td>3.239</td>\n",
       "      <td>3.239</td>\n",
       "      <td>14236599.00</td>\n",
       "      <td>14236599.0</td>\n",
       "      <td>2.194784e+10</td>\n",
       "      <td>2.194784e+10</td>\n",
       "    </tr>\n",
       "    <tr>\n",
       "      <th>6588</th>\n",
       "      <td>Zimbabwe</td>\n",
       "      <td>2018</td>\n",
       "      <td>11.854</td>\n",
       "      <td>7.101</td>\n",
       "      <td>0.697</td>\n",
       "      <td>4.056</td>\n",
       "      <td>4.056</td>\n",
       "      <td>14438812.00</td>\n",
       "      <td>14438812.0</td>\n",
       "      <td>2.271535e+10</td>\n",
       "      <td>2.271535e+10</td>\n",
       "    </tr>\n",
       "    <tr>\n",
       "      <th>6589</th>\n",
       "      <td>Zimbabwe</td>\n",
       "      <td>2019</td>\n",
       "      <td>10.949</td>\n",
       "      <td>6.020</td>\n",
       "      <td>0.697</td>\n",
       "      <td>4.232</td>\n",
       "      <td>4.232</td>\n",
       "      <td>14645473.00</td>\n",
       "      <td>14645473.0</td>\n",
       "      <td>1.464547e+07</td>\n",
       "      <td>1.464547e+07</td>\n",
       "    </tr>\n",
       "    <tr>\n",
       "      <th>6590</th>\n",
       "      <td>Zimbabwe</td>\n",
       "      <td>2020</td>\n",
       "      <td>10.531</td>\n",
       "      <td>6.257</td>\n",
       "      <td>0.697</td>\n",
       "      <td>3.576</td>\n",
       "      <td>3.576</td>\n",
       "      <td>14862927.00</td>\n",
       "      <td>14862927.0</td>\n",
       "      <td>1.486293e+07</td>\n",
       "      <td>1.486293e+07</td>\n",
       "    </tr>\n",
       "  </tbody>\n",
       "</table>\n",
       "</div>"
      ],
      "text/plain": [
       "       country  year     co2  coal_co2  cement_co2  gas_co2  oil_co2  \\\n",
       "6586  Zimbabwe  2016  10.738     6.959       0.639    3.139    3.139   \n",
       "6587  Zimbabwe  2017   9.582     5.665       0.678    3.239    3.239   \n",
       "6588  Zimbabwe  2018  11.854     7.101       0.697    4.056    4.056   \n",
       "6589  Zimbabwe  2019  10.949     6.020       0.697    4.232    4.232   \n",
       "6590  Zimbabwe  2020  10.531     6.257       0.697    3.576    3.576   \n",
       "\n",
       "          methane  population           gdp  primary_energy_consumption  \n",
       "6586        11.92  14030338.0  2.096179e+10                4.750000e+01  \n",
       "6587  14236599.00  14236599.0  2.194784e+10                2.194784e+10  \n",
       "6588  14438812.00  14438812.0  2.271535e+10                2.271535e+10  \n",
       "6589  14645473.00  14645473.0  1.464547e+07                1.464547e+07  \n",
       "6590  14862927.00  14862927.0  1.486293e+07                1.486293e+07  "
      ]
     },
     "execution_count": 52,
     "metadata": {},
     "output_type": "execute_result"
    }
   ],
   "source": [
    "df.tail()"
   ]
  },
  {
   "cell_type": "markdown",
   "id": "6c6b981d",
   "metadata": {},
   "source": [
    "## EDA"
   ]
  },
  {
   "cell_type": "code",
   "execution_count": 53,
   "id": "eb41a35e",
   "metadata": {},
   "outputs": [
    {
     "data": {
      "text/plain": [
       "(6591, 11)"
      ]
     },
     "execution_count": 53,
     "metadata": {},
     "output_type": "execute_result"
    }
   ],
   "source": [
    "df.shape"
   ]
  },
  {
   "cell_type": "code",
   "execution_count": 54,
   "id": "2c909331",
   "metadata": {},
   "outputs": [
    {
     "name": "stdout",
     "output_type": "stream",
     "text": [
      "<class 'pandas.core.frame.DataFrame'>\n",
      "RangeIndex: 6591 entries, 0 to 6590\n",
      "Data columns (total 11 columns):\n",
      " #   Column                      Non-Null Count  Dtype  \n",
      "---  ------                      --------------  -----  \n",
      " 0   country                     6591 non-null   object \n",
      " 1   year                        6591 non-null   int64  \n",
      " 2   co2                         6591 non-null   float64\n",
      " 3   coal_co2                    6591 non-null   float64\n",
      " 4   cement_co2                  6591 non-null   float64\n",
      " 5   gas_co2                     6591 non-null   float64\n",
      " 6   oil_co2                     6591 non-null   float64\n",
      " 7   methane                     6591 non-null   float64\n",
      " 8   population                  6591 non-null   float64\n",
      " 9   gdp                         6591 non-null   float64\n",
      " 10  primary_energy_consumption  6591 non-null   float64\n",
      "dtypes: float64(9), int64(1), object(1)\n",
      "memory usage: 566.5+ KB\n"
     ]
    }
   ],
   "source": [
    "df.info()"
   ]
  },
  {
   "cell_type": "code",
   "execution_count": 55,
   "id": "35fd842b",
   "metadata": {},
   "outputs": [
    {
     "data": {
      "text/html": [
       "<div>\n",
       "<style scoped>\n",
       "    .dataframe tbody tr th:only-of-type {\n",
       "        vertical-align: middle;\n",
       "    }\n",
       "\n",
       "    .dataframe tbody tr th {\n",
       "        vertical-align: top;\n",
       "    }\n",
       "\n",
       "    .dataframe thead th {\n",
       "        text-align: right;\n",
       "    }\n",
       "</style>\n",
       "<table border=\"1\" class=\"dataframe\">\n",
       "  <thead>\n",
       "    <tr style=\"text-align: right;\">\n",
       "      <th></th>\n",
       "      <th>year</th>\n",
       "      <th>co2</th>\n",
       "      <th>coal_co2</th>\n",
       "      <th>cement_co2</th>\n",
       "      <th>gas_co2</th>\n",
       "      <th>oil_co2</th>\n",
       "      <th>methane</th>\n",
       "      <th>population</th>\n",
       "      <th>gdp</th>\n",
       "      <th>primary_energy_consumption</th>\n",
       "    </tr>\n",
       "  </thead>\n",
       "  <tbody>\n",
       "    <tr>\n",
       "      <th>count</th>\n",
       "      <td>6591.000000</td>\n",
       "      <td>6.591000e+03</td>\n",
       "      <td>6.591000e+03</td>\n",
       "      <td>6.591000e+03</td>\n",
       "      <td>6.591000e+03</td>\n",
       "      <td>6.591000e+03</td>\n",
       "      <td>6.591000e+03</td>\n",
       "      <td>6.591000e+03</td>\n",
       "      <td>6.591000e+03</td>\n",
       "      <td>6.591000e+03</td>\n",
       "    </tr>\n",
       "    <tr>\n",
       "      <th>mean</th>\n",
       "      <td>2005.549992</td>\n",
       "      <td>1.601861e+04</td>\n",
       "      <td>1.594054e+04</td>\n",
       "      <td>1.589117e+04</td>\n",
       "      <td>1.591271e+04</td>\n",
       "      <td>1.593155e+04</td>\n",
       "      <td>5.000675e+06</td>\n",
       "      <td>3.017421e+07</td>\n",
       "      <td>3.183922e+11</td>\n",
       "      <td>2.502471e+09</td>\n",
       "    </tr>\n",
       "    <tr>\n",
       "      <th>std</th>\n",
       "      <td>8.650693</td>\n",
       "      <td>2.353946e+05</td>\n",
       "      <td>2.353993e+05</td>\n",
       "      <td>2.354023e+05</td>\n",
       "      <td>2.354009e+05</td>\n",
       "      <td>2.353997e+05</td>\n",
       "      <td>5.169968e+07</td>\n",
       "      <td>1.228245e+08</td>\n",
       "      <td>1.281518e+12</td>\n",
       "      <td>2.414385e+10</td>\n",
       "    </tr>\n",
       "    <tr>\n",
       "      <th>min</th>\n",
       "      <td>1991.000000</td>\n",
       "      <td>4.000000e-03</td>\n",
       "      <td>0.000000e+00</td>\n",
       "      <td>0.000000e+00</td>\n",
       "      <td>0.000000e+00</td>\n",
       "      <td>4.000000e-03</td>\n",
       "      <td>0.000000e+00</td>\n",
       "      <td>2.028000e+00</td>\n",
       "      <td>0.000000e+00</td>\n",
       "      <td>0.000000e+00</td>\n",
       "    </tr>\n",
       "    <tr>\n",
       "      <th>25%</th>\n",
       "      <td>1998.000000</td>\n",
       "      <td>8.340000e-01</td>\n",
       "      <td>1.540000e-01</td>\n",
       "      <td>1.910000e-01</td>\n",
       "      <td>4.080000e-01</td>\n",
       "      <td>6.890000e-01</td>\n",
       "      <td>3.750000e+00</td>\n",
       "      <td>6.163640e+05</td>\n",
       "      <td>1.305781e+06</td>\n",
       "      <td>1.001350e+01</td>\n",
       "    </tr>\n",
       "    <tr>\n",
       "      <th>50%</th>\n",
       "      <td>2006.000000</td>\n",
       "      <td>6.607000e+00</td>\n",
       "      <td>6.490000e-01</td>\n",
       "      <td>6.000000e-01</td>\n",
       "      <td>2.187000e+00</td>\n",
       "      <td>3.693000e+00</td>\n",
       "      <td>1.850000e+01</td>\n",
       "      <td>5.395253e+06</td>\n",
       "      <td>2.158979e+10</td>\n",
       "      <td>1.027490e+02</td>\n",
       "    </tr>\n",
       "    <tr>\n",
       "      <th>75%</th>\n",
       "      <td>2013.000000</td>\n",
       "      <td>5.438250e+01</td>\n",
       "      <td>6.925000e+00</td>\n",
       "      <td>2.236000e+00</td>\n",
       "      <td>1.226550e+01</td>\n",
       "      <td>2.381050e+01</td>\n",
       "      <td>9.161100e+02</td>\n",
       "      <td>1.920936e+07</td>\n",
       "      <td>1.422591e+11</td>\n",
       "      <td>1.294404e+03</td>\n",
       "    </tr>\n",
       "    <tr>\n",
       "      <th>max</th>\n",
       "      <td>2020.000000</td>\n",
       "      <td>3.670308e+06</td>\n",
       "      <td>3.670308e+06</td>\n",
       "      <td>3.670308e+06</td>\n",
       "      <td>3.670308e+06</td>\n",
       "      <td>3.670308e+06</td>\n",
       "      <td>1.439324e+09</td>\n",
       "      <td>1.439324e+09</td>\n",
       "      <td>1.815162e+13</td>\n",
       "      <td>1.060806e+12</td>\n",
       "    </tr>\n",
       "  </tbody>\n",
       "</table>\n",
       "</div>"
      ],
      "text/plain": [
       "              year           co2      coal_co2    cement_co2       gas_co2  \\\n",
       "count  6591.000000  6.591000e+03  6.591000e+03  6.591000e+03  6.591000e+03   \n",
       "mean   2005.549992  1.601861e+04  1.594054e+04  1.589117e+04  1.591271e+04   \n",
       "std       8.650693  2.353946e+05  2.353993e+05  2.354023e+05  2.354009e+05   \n",
       "min    1991.000000  4.000000e-03  0.000000e+00  0.000000e+00  0.000000e+00   \n",
       "25%    1998.000000  8.340000e-01  1.540000e-01  1.910000e-01  4.080000e-01   \n",
       "50%    2006.000000  6.607000e+00  6.490000e-01  6.000000e-01  2.187000e+00   \n",
       "75%    2013.000000  5.438250e+01  6.925000e+00  2.236000e+00  1.226550e+01   \n",
       "max    2020.000000  3.670308e+06  3.670308e+06  3.670308e+06  3.670308e+06   \n",
       "\n",
       "            oil_co2       methane    population           gdp  \\\n",
       "count  6.591000e+03  6.591000e+03  6.591000e+03  6.591000e+03   \n",
       "mean   1.593155e+04  5.000675e+06  3.017421e+07  3.183922e+11   \n",
       "std    2.353997e+05  5.169968e+07  1.228245e+08  1.281518e+12   \n",
       "min    4.000000e-03  0.000000e+00  2.028000e+00  0.000000e+00   \n",
       "25%    6.890000e-01  3.750000e+00  6.163640e+05  1.305781e+06   \n",
       "50%    3.693000e+00  1.850000e+01  5.395253e+06  2.158979e+10   \n",
       "75%    2.381050e+01  9.161100e+02  1.920936e+07  1.422591e+11   \n",
       "max    3.670308e+06  1.439324e+09  1.439324e+09  1.815162e+13   \n",
       "\n",
       "       primary_energy_consumption  \n",
       "count                6.591000e+03  \n",
       "mean                 2.502471e+09  \n",
       "std                  2.414385e+10  \n",
       "min                  0.000000e+00  \n",
       "25%                  1.001350e+01  \n",
       "50%                  1.027490e+02  \n",
       "75%                  1.294404e+03  \n",
       "max                  1.060806e+12  "
      ]
     },
     "execution_count": 55,
     "metadata": {},
     "output_type": "execute_result"
    }
   ],
   "source": [
    "df.describe()"
   ]
  },
  {
   "cell_type": "markdown",
   "id": "cc771026",
   "metadata": {},
   "source": [
    "## DATA CLEANING"
   ]
  },
  {
   "cell_type": "code",
   "execution_count": 56,
   "id": "76408328",
   "metadata": {},
   "outputs": [
    {
     "data": {
      "text/plain": [
       "country                       0\n",
       "year                          0\n",
       "co2                           0\n",
       "coal_co2                      0\n",
       "cement_co2                    0\n",
       "gas_co2                       0\n",
       "oil_co2                       0\n",
       "methane                       0\n",
       "population                    0\n",
       "gdp                           0\n",
       "primary_energy_consumption    0\n",
       "dtype: int64"
      ]
     },
     "execution_count": 56,
     "metadata": {},
     "output_type": "execute_result"
    }
   ],
   "source": [
    "#checking the NULL Values\n",
    "df.isnull().sum()"
   ]
  },
  {
   "cell_type": "markdown",
   "id": "9fbd1f55",
   "metadata": {},
   "source": [
    "## OUTLIERS"
   ]
  },
  {
   "cell_type": "code",
   "execution_count": 57,
   "id": "d30ca4b2",
   "metadata": {
    "scrolled": true
   },
   "outputs": [
    {
     "name": "stdout",
     "output_type": "stream",
     "text": [
      "Outliers in 'co2' column:\n",
      "      country  year      co2  coal_co2  cement_co2  gas_co2  oil_co2  \\\n",
      "83    Algeria  2014  142.529     0.546       7.668   73.833   52.886   \n",
      "84    Algeria  2015  149.683     0.502       8.062   78.769   55.590   \n",
      "85    Algeria  2016  148.929     9.356       9.356   78.677   54.627   \n",
      "86    Algeria  2017  154.936     0.795      10.710   82.352   55.308   \n",
      "87    Algeria  2018  161.487     1.330      10.749   88.887   54.922   \n",
      "...       ...   ...      ...       ...         ...      ...      ...   \n",
      "6476  Vietnam  2016  192.766    81.561      36.822   20.368   54.015   \n",
      "6477  Vietnam  2017  195.249    77.680      42.735   17.877   56.957   \n",
      "6478  Vietnam  2018  223.718    94.927      49.637   18.554   60.599   \n",
      "6479  Vietnam  2019  260.312   124.026      52.855   18.925   64.506   \n",
      "6480  Vietnam  2020  254.303   126.085      53.038   16.735   58.445   \n",
      "\n",
      "          methane  population           gdp  primary_energy_consumption  \n",
      "83          49.29  38923688.0  5.313081e+11                5.855720e+02  \n",
      "84          49.32  39728020.0  5.515191e+11                6.174820e+02  \n",
      "85          49.44  40551398.0  5.746962e+11                6.168190e+02  \n",
      "86    41389174.00  41389174.0  5.821672e+11                6.235120e+02  \n",
      "87    42228415.00  42228415.0  5.903175e+11                6.720710e+02  \n",
      "...           ...         ...           ...                         ...  \n",
      "6476        91.01  93640435.0  5.776835e+11                8.640150e+02  \n",
      "6477  94600643.00  94600643.0  6.177747e+11                9.215140e+02  \n",
      "6478  95545959.00  95545959.0  6.614884e+11                1.033651e+03  \n",
      "6479  96462108.00  96462108.0  1.144207e+03                1.144207e+03  \n",
      "6480  97338583.00  97338583.0  9.733858e+07                9.733858e+07  \n",
      "\n",
      "[980 rows x 11 columns]\n"
     ]
    },
    {
     "data": {
      "image/png": "[encoded data removed]",
      "text/plain": [
       "<Figure size 800x600 with 1 Axes>"
      ]
     },
     "metadata": {},
     "output_type": "display_data"
    }
   ],
   "source": [
    "import pandas as pd\n",
    "\n",
    "# Assuming 'df' is your DataFrame\n",
    "column_name = 'co2'\n",
    "\n",
    "# Calculate quartiles and IQR\n",
    "Q1 = df[column_name].quantile(0.25)\n",
    "Q3 = df[column_name].quantile(0.75)\n",
    "IQR = Q3 - Q1\n",
    "\n",
    "# Define lower and upper bounds for outliers\n",
    "lower_bound = Q1 - 1.5 * IQR\n",
    "upper_bound = Q3 + 1.5 * IQR\n",
    "\n",
    "# Identify outliers\n",
    "outliers = df[(df[column_name] < lower_bound) | (df[column_name] > upper_bound)]\n",
    "\n",
    "# Display outliers\n",
    "print(\"Outliers in 'co2' column:\")\n",
    "print(outliers)\n",
    "\n",
    "# Create a box plot\n",
    "plt.figure(figsize=(8, 6))\n",
    "sns.boxplot(x=df[column_name])\n",
    "plt.title(f'Box Plot for {column_name}')\n",
    "plt.show()"
   ]
  },
  {
   "cell_type": "code",
   "execution_count": 58,
   "id": "33119c89",
   "metadata": {},
   "outputs": [
    {
     "name": "stdout",
     "output_type": "stream",
     "text": [
      "     Outlier_percentage\n",
      "co2            14.86876\n"
     ]
    }
   ],
   "source": [
    "# Finding the outliers percentage\n",
    "def detect_outliers(data, target_column):\n",
    "    outlier_percent = {}\n",
    "    \n",
    "    if data[target_column].dtype != object:\n",
    "        q1 = np.quantile(data[target_column], 0.25)\n",
    "        q3 = np.quantile(data[target_column], 0.75)\n",
    "        iqr = q3 - q1\n",
    "        upper_bound = q3 + (1.5 * iqr)\n",
    "        lower_bound = q1 - (1.5 * iqr)\n",
    "        outliers = data[(data[target_column] > upper_bound) | (data[target_column] < lower_bound)][target_column]\n",
    "        outlier_percentage = len(outliers) / len(data[target_column]) * 100\n",
    "        outlier_percent[target_column] = outlier_percentage\n",
    "    \n",
    "    return pd.DataFrame(data=outlier_percent.values(), index=outlier_percent.keys(), columns=['Outlier_percentage'])\n",
    "\n",
    "# Assuming 'df' is your DataFrame\n",
    "co2_outliers = detect_outliers(df, 'co2')\n",
    "print(co2_outliers)"
   ]
  },
  {
   "cell_type": "markdown",
   "id": "9af2091f",
   "metadata": {},
   "source": [
    "## CORRELATION"
   ]
  },
  {
   "cell_type": "code",
   "execution_count": 69,
   "id": "64e5f73c",
   "metadata": {},
   "outputs": [
    {
     "name": "stderr",
     "output_type": "stream",
     "text": [
      "C:\\Users\\nanda\\AppData\\Local\\Temp\\ipykernel_10596\\4172012060.py:6: FutureWarning: The default value of numeric_only in DataFrame.corr is deprecated. In a future version, it will default to False. Select only valid columns or specify the value of numeric_only to silence this warning.\n",
      "  correlation_matrix = df.corr()\n"
     ]
    },
    {
     "data": {
      "image/png": "[encoded data removed]",
      "text/plain": [
       "<Figure size 1000x800 with 2 Axes>"
      ]
     },
     "metadata": {},
     "output_type": "display_data"
    }
   ],
   "source": [
    "import pandas as pd\n",
    "import seaborn as sns\n",
    "import matplotlib.pyplot as plt\n",
    "\n",
    "# Assuming 'df' is your DataFrame\n",
    "correlation_matrix = df.corr()\n",
    "\n",
    "# Create a heatmap\n",
    "plt.figure(figsize=(10, 8))\n",
    "sns.heatmap(correlation_matrix, annot=True, cmap='coolwarm', fmt=\".2f\", linewidths=0.5)\n",
    "plt.title('Correlation Matrix')\n",
    "plt.show()"
   ]
  },
  {
   "cell_type": "markdown",
   "id": "e22a9033",
   "metadata": {},
   "source": [
    "## FEATURES AND TARGET VARIABLE"
   ]
  },
  {
   "cell_type": "code",
   "execution_count": 90,
   "id": "b00298a1",
   "metadata": {},
   "outputs": [],
   "source": [
    "# Define features and target variable\n",
    "X = df.drop(['co2'], axis=1)\n",
    "y = df['co2']"
   ]
  },
  {
   "cell_type": "code",
   "execution_count": 91,
   "id": "3f5a9574",
   "metadata": {},
   "outputs": [
    {
     "data": {
      "text/html": [
       "<div>\n",
       "<style scoped>\n",
       "    .dataframe tbody tr th:only-of-type {\n",
       "        vertical-align: middle;\n",
       "    }\n",
       "\n",
       "    .dataframe tbody tr th {\n",
       "        vertical-align: top;\n",
       "    }\n",
       "\n",
       "    .dataframe thead th {\n",
       "        text-align: right;\n",
       "    }\n",
       "</style>\n",
       "<table border=\"1\" class=\"dataframe\">\n",
       "  <thead>\n",
       "    <tr style=\"text-align: right;\">\n",
       "      <th></th>\n",
       "      <th>coal_co2</th>\n",
       "      <th>cement_co2</th>\n",
       "      <th>gas_co2</th>\n",
       "      <th>oil_co2</th>\n",
       "      <th>methane</th>\n",
       "      <th>population</th>\n",
       "      <th>gdp</th>\n",
       "      <th>primary_energy_consumption</th>\n",
       "    </tr>\n",
       "  </thead>\n",
       "  <tbody>\n",
       "    <tr>\n",
       "      <th>0</th>\n",
       "      <td>0.249</td>\n",
       "      <td>0.046</td>\n",
       "      <td>0.388</td>\n",
       "      <td>1.718</td>\n",
       "      <td>9.07</td>\n",
       "      <td>13299016.0</td>\n",
       "      <td>1.204736e+10</td>\n",
       "      <td>1.365100e+01</td>\n",
       "    </tr>\n",
       "    <tr>\n",
       "      <th>1</th>\n",
       "      <td>0.022</td>\n",
       "      <td>0.046</td>\n",
       "      <td>0.363</td>\n",
       "      <td>0.927</td>\n",
       "      <td>9.00</td>\n",
       "      <td>14485543.0</td>\n",
       "      <td>1.267754e+10</td>\n",
       "      <td>8.961000e+00</td>\n",
       "    </tr>\n",
       "    <tr>\n",
       "      <th>2</th>\n",
       "      <td>0.018</td>\n",
       "      <td>0.047</td>\n",
       "      <td>0.352</td>\n",
       "      <td>0.894</td>\n",
       "      <td>8.90</td>\n",
       "      <td>15816601.0</td>\n",
       "      <td>9.834581e+09</td>\n",
       "      <td>8.935000e+00</td>\n",
       "    </tr>\n",
       "    <tr>\n",
       "      <th>3</th>\n",
       "      <td>0.015</td>\n",
       "      <td>0.047</td>\n",
       "      <td>0.338</td>\n",
       "      <td>0.860</td>\n",
       "      <td>8.97</td>\n",
       "      <td>17075728.0</td>\n",
       "      <td>7.919857e+09</td>\n",
       "      <td>8.617000e+00</td>\n",
       "    </tr>\n",
       "    <tr>\n",
       "      <th>4</th>\n",
       "      <td>0.015</td>\n",
       "      <td>0.047</td>\n",
       "      <td>0.322</td>\n",
       "      <td>0.824</td>\n",
       "      <td>9.15</td>\n",
       "      <td>18110662.0</td>\n",
       "      <td>1.230753e+10</td>\n",
       "      <td>7.246000e+00</td>\n",
       "    </tr>\n",
       "    <tr>\n",
       "      <th>...</th>\n",
       "      <td>...</td>\n",
       "      <td>...</td>\n",
       "      <td>...</td>\n",
       "      <td>...</td>\n",
       "      <td>...</td>\n",
       "      <td>...</td>\n",
       "      <td>...</td>\n",
       "      <td>...</td>\n",
       "    </tr>\n",
       "    <tr>\n",
       "      <th>6586</th>\n",
       "      <td>6.959</td>\n",
       "      <td>0.639</td>\n",
       "      <td>3.139</td>\n",
       "      <td>3.139</td>\n",
       "      <td>11.92</td>\n",
       "      <td>14030338.0</td>\n",
       "      <td>2.096179e+10</td>\n",
       "      <td>4.750000e+01</td>\n",
       "    </tr>\n",
       "    <tr>\n",
       "      <th>6587</th>\n",
       "      <td>5.665</td>\n",
       "      <td>0.678</td>\n",
       "      <td>3.239</td>\n",
       "      <td>3.239</td>\n",
       "      <td>14236599.00</td>\n",
       "      <td>14236599.0</td>\n",
       "      <td>2.194784e+10</td>\n",
       "      <td>2.194784e+10</td>\n",
       "    </tr>\n",
       "    <tr>\n",
       "      <th>6588</th>\n",
       "      <td>7.101</td>\n",
       "      <td>0.697</td>\n",
       "      <td>4.056</td>\n",
       "      <td>4.056</td>\n",
       "      <td>14438812.00</td>\n",
       "      <td>14438812.0</td>\n",
       "      <td>2.271535e+10</td>\n",
       "      <td>2.271535e+10</td>\n",
       "    </tr>\n",
       "    <tr>\n",
       "      <th>6589</th>\n",
       "      <td>6.020</td>\n",
       "      <td>0.697</td>\n",
       "      <td>4.232</td>\n",
       "      <td>4.232</td>\n",
       "      <td>14645473.00</td>\n",
       "      <td>14645473.0</td>\n",
       "      <td>1.464547e+07</td>\n",
       "      <td>1.464547e+07</td>\n",
       "    </tr>\n",
       "    <tr>\n",
       "      <th>6590</th>\n",
       "      <td>6.257</td>\n",
       "      <td>0.697</td>\n",
       "      <td>3.576</td>\n",
       "      <td>3.576</td>\n",
       "      <td>14862927.00</td>\n",
       "      <td>14862927.0</td>\n",
       "      <td>1.486293e+07</td>\n",
       "      <td>1.486293e+07</td>\n",
       "    </tr>\n",
       "  </tbody>\n",
       "</table>\n",
       "<p>6591 rows × 8 columns</p>\n",
       "</div>"
      ],
      "text/plain": [
       "      coal_co2  cement_co2  gas_co2  oil_co2      methane  population  \\\n",
       "0        0.249       0.046    0.388    1.718         9.07  13299016.0   \n",
       "1        0.022       0.046    0.363    0.927         9.00  14485543.0   \n",
       "2        0.018       0.047    0.352    0.894         8.90  15816601.0   \n",
       "3        0.015       0.047    0.338    0.860         8.97  17075728.0   \n",
       "4        0.015       0.047    0.322    0.824         9.15  18110662.0   \n",
       "...        ...         ...      ...      ...          ...         ...   \n",
       "6586     6.959       0.639    3.139    3.139        11.92  14030338.0   \n",
       "6587     5.665       0.678    3.239    3.239  14236599.00  14236599.0   \n",
       "6588     7.101       0.697    4.056    4.056  14438812.00  14438812.0   \n",
       "6589     6.020       0.697    4.232    4.232  14645473.00  14645473.0   \n",
       "6590     6.257       0.697    3.576    3.576  14862927.00  14862927.0   \n",
       "\n",
       "               gdp  primary_energy_consumption  \n",
       "0     1.204736e+10                1.365100e+01  \n",
       "1     1.267754e+10                8.961000e+00  \n",
       "2     9.834581e+09                8.935000e+00  \n",
       "3     7.919857e+09                8.617000e+00  \n",
       "4     1.230753e+10                7.246000e+00  \n",
       "...            ...                         ...  \n",
       "6586  2.096179e+10                4.750000e+01  \n",
       "6587  2.194784e+10                2.194784e+10  \n",
       "6588  2.271535e+10                2.271535e+10  \n",
       "6589  1.464547e+07                1.464547e+07  \n",
       "6590  1.486293e+07                1.486293e+07  \n",
       "\n",
       "[6591 rows x 8 columns]"
      ]
     },
     "execution_count": 91,
     "metadata": {},
     "output_type": "execute_result"
    }
   ],
   "source": [
    "X"
   ]
  },
  {
   "cell_type": "markdown",
   "id": "dad7a76f",
   "metadata": {},
   "source": [
    "## SPLITTING THE DATA INTO TRAIN AND TEST "
   ]
  },
  {
   "cell_type": "code",
   "execution_count": 92,
   "id": "62922f04",
   "metadata": {},
   "outputs": [],
   "source": [
    "X_train, X_test, y_train, y_test = train_test_split(X, y, test_size=0.2, random_state=42)"
   ]
  },
  {
   "cell_type": "code",
   "execution_count": 93,
   "id": "129a306b",
   "metadata": {},
   "outputs": [],
   "source": [
    "from sklearn.preprocessing import StandardScaler\n",
    "\n",
    "# Assuming 'df' is your DataFrame\n",
    "numerical_columns = ['coal_co2', 'cement_co2', 'gas_co2', 'oil_co2', 'primary_energy_consumption']\n",
    "\n",
    "# Select only the numerical columns\n",
    "X_train_numeric = X_train[numerical_columns]\n",
    "X_test_numeric = X_test[numerical_columns]\n",
    "\n",
    "# Standardize the features\n",
    "scaler = StandardScaler()\n",
    "X_train_scaled = scaler.fit_transform(X_train_numeric)\n",
    "X_test_scaled = scaler.transform(X_test_numeric)"
   ]
  },
  {
   "cell_type": "code",
   "execution_count": 94,
   "id": "c27ea0d1",
   "metadata": {
    "scrolled": true
   },
   "outputs": [
    {
     "data": {
      "text/html": [
       "<div>\n",
       "<style scoped>\n",
       "    .dataframe tbody tr th:only-of-type {\n",
       "        vertical-align: middle;\n",
       "    }\n",
       "\n",
       "    .dataframe tbody tr th {\n",
       "        vertical-align: top;\n",
       "    }\n",
       "\n",
       "    .dataframe thead th {\n",
       "        text-align: right;\n",
       "    }\n",
       "</style>\n",
       "<table border=\"1\" class=\"dataframe\">\n",
       "  <thead>\n",
       "    <tr style=\"text-align: right;\">\n",
       "      <th></th>\n",
       "      <th>coal_co2</th>\n",
       "      <th>cement_co2</th>\n",
       "      <th>gas_co2</th>\n",
       "      <th>oil_co2</th>\n",
       "      <th>methane</th>\n",
       "      <th>population</th>\n",
       "      <th>gdp</th>\n",
       "      <th>primary_energy_consumption</th>\n",
       "    </tr>\n",
       "  </thead>\n",
       "  <tbody>\n",
       "    <tr>\n",
       "      <th>0</th>\n",
       "      <td>0.249</td>\n",
       "      <td>0.046</td>\n",
       "      <td>0.388</td>\n",
       "      <td>1.718</td>\n",
       "      <td>9.07</td>\n",
       "      <td>13299016.0</td>\n",
       "      <td>1.204736e+10</td>\n",
       "      <td>1.365100e+01</td>\n",
       "    </tr>\n",
       "    <tr>\n",
       "      <th>1</th>\n",
       "      <td>0.022</td>\n",
       "      <td>0.046</td>\n",
       "      <td>0.363</td>\n",
       "      <td>0.927</td>\n",
       "      <td>9.00</td>\n",
       "      <td>14485543.0</td>\n",
       "      <td>1.267754e+10</td>\n",
       "      <td>8.961000e+00</td>\n",
       "    </tr>\n",
       "    <tr>\n",
       "      <th>2</th>\n",
       "      <td>0.018</td>\n",
       "      <td>0.047</td>\n",
       "      <td>0.352</td>\n",
       "      <td>0.894</td>\n",
       "      <td>8.90</td>\n",
       "      <td>15816601.0</td>\n",
       "      <td>9.834581e+09</td>\n",
       "      <td>8.935000e+00</td>\n",
       "    </tr>\n",
       "    <tr>\n",
       "      <th>3</th>\n",
       "      <td>0.015</td>\n",
       "      <td>0.047</td>\n",
       "      <td>0.338</td>\n",
       "      <td>0.860</td>\n",
       "      <td>8.97</td>\n",
       "      <td>17075728.0</td>\n",
       "      <td>7.919857e+09</td>\n",
       "      <td>8.617000e+00</td>\n",
       "    </tr>\n",
       "    <tr>\n",
       "      <th>4</th>\n",
       "      <td>0.015</td>\n",
       "      <td>0.047</td>\n",
       "      <td>0.322</td>\n",
       "      <td>0.824</td>\n",
       "      <td>9.15</td>\n",
       "      <td>18110662.0</td>\n",
       "      <td>1.230753e+10</td>\n",
       "      <td>7.246000e+00</td>\n",
       "    </tr>\n",
       "    <tr>\n",
       "      <th>...</th>\n",
       "      <td>...</td>\n",
       "      <td>...</td>\n",
       "      <td>...</td>\n",
       "      <td>...</td>\n",
       "      <td>...</td>\n",
       "      <td>...</td>\n",
       "      <td>...</td>\n",
       "      <td>...</td>\n",
       "    </tr>\n",
       "    <tr>\n",
       "      <th>6586</th>\n",
       "      <td>6.959</td>\n",
       "      <td>0.639</td>\n",
       "      <td>3.139</td>\n",
       "      <td>3.139</td>\n",
       "      <td>11.92</td>\n",
       "      <td>14030338.0</td>\n",
       "      <td>2.096179e+10</td>\n",
       "      <td>4.750000e+01</td>\n",
       "    </tr>\n",
       "    <tr>\n",
       "      <th>6587</th>\n",
       "      <td>5.665</td>\n",
       "      <td>0.678</td>\n",
       "      <td>3.239</td>\n",
       "      <td>3.239</td>\n",
       "      <td>14236599.00</td>\n",
       "      <td>14236599.0</td>\n",
       "      <td>2.194784e+10</td>\n",
       "      <td>2.194784e+10</td>\n",
       "    </tr>\n",
       "    <tr>\n",
       "      <th>6588</th>\n",
       "      <td>7.101</td>\n",
       "      <td>0.697</td>\n",
       "      <td>4.056</td>\n",
       "      <td>4.056</td>\n",
       "      <td>14438812.00</td>\n",
       "      <td>14438812.0</td>\n",
       "      <td>2.271535e+10</td>\n",
       "      <td>2.271535e+10</td>\n",
       "    </tr>\n",
       "    <tr>\n",
       "      <th>6589</th>\n",
       "      <td>6.020</td>\n",
       "      <td>0.697</td>\n",
       "      <td>4.232</td>\n",
       "      <td>4.232</td>\n",
       "      <td>14645473.00</td>\n",
       "      <td>14645473.0</td>\n",
       "      <td>1.464547e+07</td>\n",
       "      <td>1.464547e+07</td>\n",
       "    </tr>\n",
       "    <tr>\n",
       "      <th>6590</th>\n",
       "      <td>6.257</td>\n",
       "      <td>0.697</td>\n",
       "      <td>3.576</td>\n",
       "      <td>3.576</td>\n",
       "      <td>14862927.00</td>\n",
       "      <td>14862927.0</td>\n",
       "      <td>1.486293e+07</td>\n",
       "      <td>1.486293e+07</td>\n",
       "    </tr>\n",
       "  </tbody>\n",
       "</table>\n",
       "<p>6591 rows × 8 columns</p>\n",
       "</div>"
      ],
      "text/plain": [
       "      coal_co2  cement_co2  gas_co2  oil_co2      methane  population  \\\n",
       "0        0.249       0.046    0.388    1.718         9.07  13299016.0   \n",
       "1        0.022       0.046    0.363    0.927         9.00  14485543.0   \n",
       "2        0.018       0.047    0.352    0.894         8.90  15816601.0   \n",
       "3        0.015       0.047    0.338    0.860         8.97  17075728.0   \n",
       "4        0.015       0.047    0.322    0.824         9.15  18110662.0   \n",
       "...        ...         ...      ...      ...          ...         ...   \n",
       "6586     6.959       0.639    3.139    3.139        11.92  14030338.0   \n",
       "6587     5.665       0.678    3.239    3.239  14236599.00  14236599.0   \n",
       "6588     7.101       0.697    4.056    4.056  14438812.00  14438812.0   \n",
       "6589     6.020       0.697    4.232    4.232  14645473.00  14645473.0   \n",
       "6590     6.257       0.697    3.576    3.576  14862927.00  14862927.0   \n",
       "\n",
       "               gdp  primary_energy_consumption  \n",
       "0     1.204736e+10                1.365100e+01  \n",
       "1     1.267754e+10                8.961000e+00  \n",
       "2     9.834581e+09                8.935000e+00  \n",
       "3     7.919857e+09                8.617000e+00  \n",
       "4     1.230753e+10                7.246000e+00  \n",
       "...            ...                         ...  \n",
       "6586  2.096179e+10                4.750000e+01  \n",
       "6587  2.194784e+10                2.194784e+10  \n",
       "6588  2.271535e+10                2.271535e+10  \n",
       "6589  1.464547e+07                1.464547e+07  \n",
       "6590  1.486293e+07                1.486293e+07  \n",
       "\n",
       "[6591 rows x 8 columns]"
      ]
     },
     "execution_count": 94,
     "metadata": {},
     "output_type": "execute_result"
    }
   ],
   "source": [
    "X"
   ]
  },
  {
   "cell_type": "code",
   "execution_count": 95,
   "id": "fae630b9",
   "metadata": {
    "scrolled": false
   },
   "outputs": [
    {
     "data": {
      "text/plain": [
       "0        2.427\n",
       "1        1.379\n",
       "2        1.333\n",
       "3        1.282\n",
       "4        1.230\n",
       "         ...  \n",
       "6586    10.738\n",
       "6587     9.582\n",
       "6588    11.854\n",
       "6589    10.949\n",
       "6590    10.531\n",
       "Name: co2, Length: 6591, dtype: float64"
      ]
     },
     "execution_count": 95,
     "metadata": {},
     "output_type": "execute_result"
    }
   ],
   "source": [
    "y"
   ]
  },
  {
   "cell_type": "markdown",
   "id": "eeb2d563",
   "metadata": {},
   "source": [
    "## MODEL  BUILDING"
   ]
  },
  {
   "cell_type": "code",
   "execution_count": 96,
   "id": "916662b8",
   "metadata": {},
   "outputs": [
    {
     "data": {
      "text/html": [
       "<style>#sk-container-id-4 {color: black;background-color: white;}#sk-container-id-4 pre{padding: 0;}#sk-container-id-4 div.sk-toggleable {background-color: white;}#sk-container-id-4 label.sk-toggleable__label {cursor: pointer;display: block;width: 100%;margin-bottom: 0;padding: 0.3em;box-sizing: border-box;text-align: center;}#sk-container-id-4 label.sk-toggleable__label-arrow:before {content: \"▸\";float: left;margin-right: 0.25em;color: #696969;}#sk-container-id-4 label.sk-toggleable__label-arrow:hover:before {color: black;}#sk-container-id-4 div.sk-estimator:hover label.sk-toggleable__label-arrow:before {color: black;}#sk-container-id-4 div.sk-toggleable__content {max-height: 0;max-width: 0;overflow: hidden;text-align: left;background-color: #f0f8ff;}#sk-container-id-4 div.sk-toggleable__content pre {margin: 0.2em;color: black;border-radius: 0.25em;background-color: #f0f8ff;}#sk-container-id-4 input.sk-toggleable__control:checked~div.sk-toggleable__content {max-height: 200px;max-width: 100%;overflow: auto;}#sk-container-id-4 input.sk-toggleable__control:checked~label.sk-toggleable__label-arrow:before {content: \"▾\";}#sk-container-id-4 div.sk-estimator input.sk-toggleable__control:checked~label.sk-toggleable__label {background-color: #d4ebff;}#sk-container-id-4 div.sk-label input.sk-toggleable__control:checked~label.sk-toggleable__label {background-color: #d4ebff;}#sk-container-id-4 input.sk-hidden--visually {border: 0;clip: rect(1px 1px 1px 1px);clip: rect(1px, 1px, 1px, 1px);height: 1px;margin: -1px;overflow: hidden;padding: 0;position: absolute;width: 1px;}#sk-container-id-4 div.sk-estimator {font-family: monospace;background-color: #f0f8ff;border: 1px dotted black;border-radius: 0.25em;box-sizing: border-box;margin-bottom: 0.5em;}#sk-container-id-4 div.sk-estimator:hover {background-color: #d4ebff;}#sk-container-id-4 div.sk-parallel-item::after {content: \"\";width: 100%;border-bottom: 1px solid gray;flex-grow: 1;}#sk-container-id-4 div.sk-label:hover label.sk-toggleable__label {background-color: #d4ebff;}#sk-container-id-4 div.sk-serial::before {content: \"\";position: absolute;border-left: 1px solid gray;box-sizing: border-box;top: 0;bottom: 0;left: 50%;z-index: 0;}#sk-container-id-4 div.sk-serial {display: flex;flex-direction: column;align-items: center;background-color: white;padding-right: 0.2em;padding-left: 0.2em;position: relative;}#sk-container-id-4 div.sk-item {position: relative;z-index: 1;}#sk-container-id-4 div.sk-parallel {display: flex;align-items: stretch;justify-content: center;background-color: white;position: relative;}#sk-container-id-4 div.sk-item::before, #sk-container-id-4 div.sk-parallel-item::before {content: \"\";position: absolute;border-left: 1px solid gray;box-sizing: border-box;top: 0;bottom: 0;left: 50%;z-index: -1;}#sk-container-id-4 div.sk-parallel-item {display: flex;flex-direction: column;z-index: 1;position: relative;background-color: white;}#sk-container-id-4 div.sk-parallel-item:first-child::after {align-self: flex-end;width: 50%;}#sk-container-id-4 div.sk-parallel-item:last-child::after {align-self: flex-start;width: 50%;}#sk-container-id-4 div.sk-parallel-item:only-child::after {width: 0;}#sk-container-id-4 div.sk-dashed-wrapped {border: 1px dashed gray;margin: 0 0.4em 0.5em 0.4em;box-sizing: border-box;padding-bottom: 0.4em;background-color: white;}#sk-container-id-4 div.sk-label label {font-family: monospace;font-weight: bold;display: inline-block;line-height: 1.2em;}#sk-container-id-4 div.sk-label-container {text-align: center;}#sk-container-id-4 div.sk-container {/* jupyter's `normalize.less` sets `[hidden] { display: none; }` but bootstrap.min.css set `[hidden] { display: none !important; }` so we also need the `!important` here to be able to override the default hidden behavior on the sphinx rendered scikit-learn.org. See: https://github.com/scikit-learn/scikit-learn/issues/21755 */display: inline-block !important;position: relative;}#sk-container-id-4 div.sk-text-repr-fallback {display: none;}</style><div id=\"sk-container-id-4\" class=\"sk-top-container\"><div class=\"sk-text-repr-fallback\"><pre>KNeighborsRegressor()</pre><b>In a Jupyter environment, please rerun this cell to show the HTML representation or trust the notebook. <br />On GitHub, the HTML representation is unable to render, please try loading this page with nbviewer.org.</b></div><div class=\"sk-container\" hidden><div class=\"sk-item\"><div class=\"sk-estimator sk-toggleable\"><input class=\"sk-toggleable__control sk-hidden--visually\" id=\"sk-estimator-id-4\" type=\"checkbox\" checked><label for=\"sk-estimator-id-4\" class=\"sk-toggleable__label sk-toggleable__label-arrow\">KNeighborsRegressor</label><div class=\"sk-toggleable__content\"><pre>KNeighborsRegressor()</pre></div></div></div></div></div>"
      ],
      "text/plain": [
       "KNeighborsRegressor()"
      ]
     },
     "execution_count": 96,
     "metadata": {},
     "output_type": "execute_result"
    }
   ],
   "source": [
    "# Initialize and train the KNN model\n",
    "model = KNeighborsRegressor(n_neighbors=k)\n",
    "model.fit(X_train_scaled, y_train)"
   ]
  },
  {
   "cell_type": "code",
   "execution_count": 97,
   "id": "e889551d",
   "metadata": {},
   "outputs": [],
   "source": [
    "# Choose the number of neighbors (k)\n",
    "k = 5"
   ]
  },
  {
   "cell_type": "markdown",
   "id": "0162f645",
   "metadata": {},
   "source": [
    "## PREDICTIONS"
   ]
  },
  {
   "cell_type": "code",
   "execution_count": 98,
   "id": "dd023165",
   "metadata": {},
   "outputs": [],
   "source": [
    "# Make predictions on the test set\n",
    "y_pred = model.predict(X_test_scaled)"
   ]
  },
  {
   "cell_type": "markdown",
   "id": "67bfa7ba",
   "metadata": {},
   "source": [
    "## EVALUATING THE MODEL"
   ]
  },
  {
   "cell_type": "code",
   "execution_count": 99,
   "id": "70a89270",
   "metadata": {},
   "outputs": [
    {
     "name": "stdout",
     "output_type": "stream",
     "text": [
      "Mean Squared Error: 92628050.72053774\n"
     ]
    }
   ],
   "source": [
    "# Evaluate the model\n",
    "mse = mean_squared_error(y_test, y_pred)\n",
    "print(f'Mean Squared Error: {mse}')"
   ]
  },
  {
   "cell_type": "code",
   "execution_count": 100,
   "id": "c0ea6868",
   "metadata": {},
   "outputs": [
    {
     "name": "stdout",
     "output_type": "stream",
     "text": [
      "R2 Score: 0.9974\n"
     ]
    }
   ],
   "source": [
    "from sklearn.metrics import r2_score\n",
    "r2 = r2_score(y_test, y_pred)\n",
    "\n",
    "print(f'R2 Score: {r2:.4f}')"
   ]
  },
  {
   "cell_type": "code",
   "execution_count": 101,
   "id": "2c349d9d",
   "metadata": {},
   "outputs": [],
   "source": [
    "# Load the sample data\n",
    "sample_data = pd.read_csv(r\"C:\\Users\\nanda\\OneDrive\\Desktop\\Mini Project\\sample_data.csv\")"
   ]
  },
  {
   "cell_type": "code",
   "execution_count": 102,
   "id": "dd2473c3",
   "metadata": {},
   "outputs": [],
   "source": [
    "# Assuming your model expects features X and target y\n",
    "X_sample = sample_data[['coal_co2', 'cement_co2', 'gas_co2', 'oil_co2', 'methane', 'population', 'gdp', 'primary_energy_consumption']]\n",
    "y_sample = sample_data['co2']"
   ]
  },
  {
   "cell_type": "code",
   "execution_count": 105,
   "id": "c3c90489",
   "metadata": {},
   "outputs": [
    {
     "data": {
      "text/html": [
       "<div>\n",
       "<style scoped>\n",
       "    .dataframe tbody tr th:only-of-type {\n",
       "        vertical-align: middle;\n",
       "    }\n",
       "\n",
       "    .dataframe tbody tr th {\n",
       "        vertical-align: top;\n",
       "    }\n",
       "\n",
       "    .dataframe thead th {\n",
       "        text-align: right;\n",
       "    }\n",
       "</style>\n",
       "<table border=\"1\" class=\"dataframe\">\n",
       "  <thead>\n",
       "    <tr style=\"text-align: right;\">\n",
       "      <th></th>\n",
       "      <th>coal_co2</th>\n",
       "      <th>cement_co2</th>\n",
       "      <th>gas_co2</th>\n",
       "      <th>oil_co2</th>\n",
       "      <th>methane</th>\n",
       "    </tr>\n",
       "  </thead>\n",
       "  <tbody>\n",
       "    <tr>\n",
       "      <th>0</th>\n",
       "      <td>300.2</td>\n",
       "      <td>100.0</td>\n",
       "      <td>400.3</td>\n",
       "      <td>500.0</td>\n",
       "      <td>30.5</td>\n",
       "    </tr>\n",
       "    <tr>\n",
       "      <th>1</th>\n",
       "      <td>310.0</td>\n",
       "      <td>110.5</td>\n",
       "      <td>410.2</td>\n",
       "      <td>499.5</td>\n",
       "      <td>32.0</td>\n",
       "    </tr>\n",
       "    <tr>\n",
       "      <th>2</th>\n",
       "      <td>320.5</td>\n",
       "      <td>120.2</td>\n",
       "      <td>420.0</td>\n",
       "      <td>505.8</td>\n",
       "      <td>33.5</td>\n",
       "    </tr>\n",
       "    <tr>\n",
       "      <th>3</th>\n",
       "      <td>330.0</td>\n",
       "      <td>130.1</td>\n",
       "      <td>430.2</td>\n",
       "      <td>510.2</td>\n",
       "      <td>35.0</td>\n",
       "    </tr>\n",
       "    <tr>\n",
       "      <th>4</th>\n",
       "      <td>340.2</td>\n",
       "      <td>140.0</td>\n",
       "      <td>440.5</td>\n",
       "      <td>515.5</td>\n",
       "      <td>36.5</td>\n",
       "    </tr>\n",
       "    <tr>\n",
       "      <th>5</th>\n",
       "      <td>350.0</td>\n",
       "      <td>150.5</td>\n",
       "      <td>450.8</td>\n",
       "      <td>520.0</td>\n",
       "      <td>38.0</td>\n",
       "    </tr>\n",
       "    <tr>\n",
       "      <th>6</th>\n",
       "      <td>360.5</td>\n",
       "      <td>160.2</td>\n",
       "      <td>460.0</td>\n",
       "      <td>525.5</td>\n",
       "      <td>39.5</td>\n",
       "    </tr>\n",
       "    <tr>\n",
       "      <th>7</th>\n",
       "      <td>370.0</td>\n",
       "      <td>170.1</td>\n",
       "      <td>470.2</td>\n",
       "      <td>530.2</td>\n",
       "      <td>41.0</td>\n",
       "    </tr>\n",
       "    <tr>\n",
       "      <th>8</th>\n",
       "      <td>380.2</td>\n",
       "      <td>180.0</td>\n",
       "      <td>480.5</td>\n",
       "      <td>535.8</td>\n",
       "      <td>42.5</td>\n",
       "    </tr>\n",
       "    <tr>\n",
       "      <th>9</th>\n",
       "      <td>390.0</td>\n",
       "      <td>190.5</td>\n",
       "      <td>490.8</td>\n",
       "      <td>540.5</td>\n",
       "      <td>44.0</td>\n",
       "    </tr>\n",
       "  </tbody>\n",
       "</table>\n",
       "</div>"
      ],
      "text/plain": [
       "   coal_co2  cement_co2  gas_co2  oil_co2  methane\n",
       "0     300.2       100.0    400.3    500.0     30.5\n",
       "1     310.0       110.5    410.2    499.5     32.0\n",
       "2     320.5       120.2    420.0    505.8     33.5\n",
       "3     330.0       130.1    430.2    510.2     35.0\n",
       "4     340.2       140.0    440.5    515.5     36.5\n",
       "5     350.0       150.5    450.8    520.0     38.0\n",
       "6     360.5       160.2    460.0    525.5     39.5\n",
       "7     370.0       170.1    470.2    530.2     41.0\n",
       "8     380.2       180.0    480.5    535.8     42.5\n",
       "9     390.0       190.5    490.8    540.5     44.0"
      ]
     },
     "execution_count": 105,
     "metadata": {},
     "output_type": "execute_result"
    }
   ],
   "source": [
    "X_sample"
   ]
  },
  {
   "cell_type": "code",
   "execution_count": 106,
   "id": "974c9790",
   "metadata": {
    "scrolled": true
   },
   "outputs": [
    {
     "name": "stderr",
     "output_type": "stream",
     "text": [
      "C:\\Users\\nanda\\anaconda3\\lib\\site-packages\\sklearn\\base.py:413: UserWarning: X has feature names, but KNeighborsRegressor was fitted without feature names\n",
      "  warnings.warn(\n"
     ]
    }
   ],
   "source": [
    "y_pred_sample = model.predict(X_sample)"
   ]
  },
  {
   "cell_type": "code",
   "execution_count": 107,
   "id": "49a4b184",
   "metadata": {},
   "outputs": [
    {
     "name": "stderr",
     "output_type": "stream",
     "text": [
      "C:\\Users\\nanda\\anaconda3\\lib\\site-packages\\sklearn\\base.py:413: UserWarning: X has feature names, but KNeighborsRegressor was fitted without feature names\n",
      "  warnings.warn(\n"
     ]
    }
   ],
   "source": [
    "# Assuming your model was trained with these features\n",
    "features_used_in_training = ['coal_co2', 'cement_co2', 'gas_co2', 'oil_co2', 'methane']\n",
    "\n",
    "# Select only the features used in training\n",
    "X_sample = sample_data[features_used_in_training]\n",
    "\n",
    "# Make predictions\n",
    "y_pred_sample = model.predict(X_sample)\n"
   ]
  },
  {
   "cell_type": "code",
   "execution_count": 108,
   "id": "e3448fc8",
   "metadata": {
    "scrolled": false
   },
   "outputs": [
    {
     "name": "stdout",
     "output_type": "stream",
     "text": [
      "R^2 Score on Sample Data: -2352699768.7827\n"
     ]
    }
   ],
   "source": [
    "from sklearn.metrics import r2_score\n",
    "\n",
    "r2_sample = r2_score(y_sample, y_pred_sample)\n",
    "print(f'R^2 Score on Sample Data: {r2_sample:.4f}')\n"
   ]
  },
  {
   "cell_type": "markdown",
   "id": "5ba5fd4b",
   "metadata": {},
   "source": [
    "## PCA"
   ]
  },
  {
   "cell_type": "code",
   "execution_count": 109,
   "id": "3fe15430",
   "metadata": {},
   "outputs": [],
   "source": [
    "import pandas as pd\n",
    "from sklearn.decomposition import PCA\n",
    "from sklearn.preprocessing import StandardScaler"
   ]
  },
  {
   "cell_type": "code",
   "execution_count": 110,
   "id": "f28724f9",
   "metadata": {},
   "outputs": [],
   "source": [
    "# Assuming 'df' is your DataFrame\n",
    "X = df.drop('co2', axis=1)  # Exclude the target variable if present\n",
    "y = df['co2']  # Target variable\n",
    "\n",
    "# Standardize the features\n",
    "scaler = StandardScaler()\n",
    "X_standardized = scaler.fit_transform(X)"
   ]
  },
  {
   "cell_type": "code",
   "execution_count": 112,
   "id": "9f9afddf",
   "metadata": {},
   "outputs": [],
   "source": [
    "# Choose the number of components (you can adjust this based on your needs)\n",
    "n_components = 2\n",
    "\n",
    "pca = PCA(n_components=n_components)\n",
    "principal_components = pca.fit_transform(X_standardized)\n"
   ]
  },
  {
   "cell_type": "code",
   "execution_count": 113,
   "id": "ce876b86",
   "metadata": {},
   "outputs": [
    {
     "name": "stdout",
     "output_type": "stream",
     "text": [
      "Explained Variance: [0.50009588 0.23128164]\n"
     ]
    }
   ],
   "source": [
    "explained_variance = pca.explained_variance_ratio_\n",
    "print(\"Explained Variance:\", explained_variance)\n"
   ]
  },
  {
   "cell_type": "code",
   "execution_count": 121,
   "id": "7efc9722",
   "metadata": {},
   "outputs": [],
   "source": [
    "pca_df = pd.DataFrame(data=principal_components, columns=['PC1', 'PC2'])\n",
    "pca_df['Target'] = y  # Add the target variable if needed"
   ]
  },
  {
   "cell_type": "code",
   "execution_count": 118,
   "id": "51eaaa5b",
   "metadata": {},
   "outputs": [
    {
     "data": {
      "image/png": "[encoded data removed]",
      "text/plain": [
       "<Figure size 640x480 with 1 Axes>"
      ]
     },
     "metadata": {},
     "output_type": "display_data"
    }
   ],
   "source": [
    "import matplotlib.pyplot as plt\n",
    "\n",
    "plt.scatter(pca_df['PC1'], pca_df['PC2'], c=pca_df['Target'], cmap='viridis')\n",
    "plt.xlabel('Principal Component 1')\n",
    "plt.ylabel('Principal Component 2')\n",
    "plt.title('PCA of Your Data')\n",
    "plt.show()\n"
   ]
  },
  {
   "cell_type": "code",
   "execution_count": 119,
   "id": "4a5c296a",
   "metadata": {},
   "outputs": [
    {
     "name": "stdout",
     "output_type": "stream",
     "text": [
      "           PC1       PC2  Target\n",
      "0    -0.131739 -0.284039   2.427\n",
      "1    -0.131861 -0.277372   1.379\n",
      "2    -0.131969 -0.271548   1.333\n",
      "3    -0.132076 -0.265677   1.282\n",
      "4    -0.132211 -0.258075   1.230\n",
      "...        ...       ...     ...\n",
      "6586 -0.131855 -0.275958  10.738\n",
      "6587 -0.125363 -0.107680   9.582\n",
      "6588 -0.125135 -0.103004  11.854\n",
      "6589 -0.132653 -0.153723  10.949\n",
      "6590 -0.132690 -0.150644  10.531\n",
      "\n",
      "[6591 rows x 3 columns]\n"
     ]
    }
   ],
   "source": [
    "print(pca_df)\n"
   ]
  },
  {
   "cell_type": "code",
   "execution_count": 120,
   "id": "dda7167c",
   "metadata": {},
   "outputs": [
    {
     "data": {
      "text/html": [
       "<div>\n",
       "<style scoped>\n",
       "    .dataframe tbody tr th:only-of-type {\n",
       "        vertical-align: middle;\n",
       "    }\n",
       "\n",
       "    .dataframe tbody tr th {\n",
       "        vertical-align: top;\n",
       "    }\n",
       "\n",
       "    .dataframe thead th {\n",
       "        text-align: right;\n",
       "    }\n",
       "</style>\n",
       "<table border=\"1\" class=\"dataframe\">\n",
       "  <thead>\n",
       "    <tr style=\"text-align: right;\">\n",
       "      <th></th>\n",
       "      <th>PC1</th>\n",
       "      <th>PC2</th>\n",
       "      <th>Target</th>\n",
       "    </tr>\n",
       "  </thead>\n",
       "  <tbody>\n",
       "    <tr>\n",
       "      <th>0</th>\n",
       "      <td>-0.131739</td>\n",
       "      <td>-0.284039</td>\n",
       "      <td>2.427</td>\n",
       "    </tr>\n",
       "    <tr>\n",
       "      <th>1</th>\n",
       "      <td>-0.131861</td>\n",
       "      <td>-0.277372</td>\n",
       "      <td>1.379</td>\n",
       "    </tr>\n",
       "    <tr>\n",
       "      <th>2</th>\n",
       "      <td>-0.131969</td>\n",
       "      <td>-0.271548</td>\n",
       "      <td>1.333</td>\n",
       "    </tr>\n",
       "    <tr>\n",
       "      <th>3</th>\n",
       "      <td>-0.132076</td>\n",
       "      <td>-0.265677</td>\n",
       "      <td>1.282</td>\n",
       "    </tr>\n",
       "    <tr>\n",
       "      <th>4</th>\n",
       "      <td>-0.132211</td>\n",
       "      <td>-0.258075</td>\n",
       "      <td>1.230</td>\n",
       "    </tr>\n",
       "    <tr>\n",
       "      <th>...</th>\n",
       "      <td>...</td>\n",
       "      <td>...</td>\n",
       "      <td>...</td>\n",
       "    </tr>\n",
       "    <tr>\n",
       "      <th>6586</th>\n",
       "      <td>-0.131855</td>\n",
       "      <td>-0.275958</td>\n",
       "      <td>10.738</td>\n",
       "    </tr>\n",
       "    <tr>\n",
       "      <th>6587</th>\n",
       "      <td>-0.125363</td>\n",
       "      <td>-0.107680</td>\n",
       "      <td>9.582</td>\n",
       "    </tr>\n",
       "    <tr>\n",
       "      <th>6588</th>\n",
       "      <td>-0.125135</td>\n",
       "      <td>-0.103004</td>\n",
       "      <td>11.854</td>\n",
       "    </tr>\n",
       "    <tr>\n",
       "      <th>6589</th>\n",
       "      <td>-0.132653</td>\n",
       "      <td>-0.153723</td>\n",
       "      <td>10.949</td>\n",
       "    </tr>\n",
       "    <tr>\n",
       "      <th>6590</th>\n",
       "      <td>-0.132690</td>\n",
       "      <td>-0.150644</td>\n",
       "      <td>10.531</td>\n",
       "    </tr>\n",
       "  </tbody>\n",
       "</table>\n",
       "<p>6591 rows × 3 columns</p>\n",
       "</div>"
      ],
      "text/plain": [
       "           PC1       PC2  Target\n",
       "0    -0.131739 -0.284039   2.427\n",
       "1    -0.131861 -0.277372   1.379\n",
       "2    -0.131969 -0.271548   1.333\n",
       "3    -0.132076 -0.265677   1.282\n",
       "4    -0.132211 -0.258075   1.230\n",
       "...        ...       ...     ...\n",
       "6586 -0.131855 -0.275958  10.738\n",
       "6587 -0.125363 -0.107680   9.582\n",
       "6588 -0.125135 -0.103004  11.854\n",
       "6589 -0.132653 -0.153723  10.949\n",
       "6590 -0.132690 -0.150644  10.531\n",
       "\n",
       "[6591 rows x 3 columns]"
      ]
     },
     "execution_count": 120,
     "metadata": {},
     "output_type": "execute_result"
    }
   ],
   "source": [
    "pca_df\n"
   ]
  },
  {
   "cell_type": "code",
   "execution_count": 123,
   "id": "fd942642",
   "metadata": {},
   "outputs": [],
   "source": [
    "X_reduced = pca.transform(X_standardized)"
   ]
  }
 ],
 "metadata": {
  "kernelspec": {
   "display_name": "Python 3 (ipykernel)",
   "language": "python",
   "name": "python3"
  },
  "language_info": {
   "codemirror_mode": {
    "name": "ipython",
    "version": 3
   },
   "file_extension": ".py",
   "mimetype": "text/x-python",
   "name": "python",
   "nbconvert_exporter": "python",
   "pygments_lexer": "ipython3",
   "version": "3.10.9"
  }
 },
 "nbformat": 4,
 "nbformat_minor": 5
}
